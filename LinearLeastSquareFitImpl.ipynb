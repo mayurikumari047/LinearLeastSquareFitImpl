{
 "cells": [
  {
   "cell_type": "code",
   "execution_count": 25,
   "metadata": {},
   "outputs": [],
   "source": [
    "import numpy as np\n",
    "import numpy.random as random\n",
    "import matplotlib.pyplot as plt\n",
    "from numpy.linalg import pinv"
   ]
  },
  {
   "cell_type": "code",
   "execution_count": 27,
   "metadata": {},
   "outputs": [
    {
     "name": "stdout",
     "output_type": "stream",
     "text": [
      "-0.18999097516900232\n",
      "1.0050239681179305\n"
     ]
    },
    {
     "data": {
      "image/png": "[encoded data removed]",
      "text/plain": [
       "<Figure size 432x288 with 1 Axes>"
      ]
     },
     "metadata": {},
     "output_type": "display_data"
    },
    {
     "data": {
      "image/png": "[encoded data removed]",
      "text/plain": [
       "<Figure size 432x288 with 1 Axes>"
      ]
     },
     "metadata": {},
     "output_type": "display_data"
    }
   ],
   "source": [
    "def linear_least_squares_fit():\n",
    "\n",
    "    x_r1 = []\n",
    "    x_r2 = []\n",
    "\n",
    "    x_array = np.zeros((2, 50))\n",
    "    y_array = []\n",
    "\n",
    "    u = (1 - (-1)) * random.sample(50) - 1\n",
    "    u.reshape(50, 1)\n",
    "\n",
    "    for i in range(0, 50):\n",
    "        x_r1.append(1)\n",
    "\n",
    "    for i in range(1, 51):\n",
    "        x_r2.append(i)\n",
    "        y = i + u[(i - 1)]\n",
    "        y_array.append(y)\n",
    "\n",
    "    x_array[0] = x_r1\n",
    "    x_array[1] = x_r2\n",
    "    #print(\"x_array:\",x_array)\n",
    "    #print(\"done\")\n",
    "\n",
    "    x_matrix = np.matrix(np.array(x_array))\n",
    "    #print(x_matrix)\n",
    "    y_matrix = np.matrix(np.array(y_array))\n",
    "\n",
    "    x_pseudo = pinv(x_matrix)\n",
    "    w_minimum = y_matrix * x_pseudo\n",
    "\n",
    "    w_array = []\n",
    "    w_array.append(w_minimum[0, 0])\n",
    "    w_array.append(w_minimum[0, 1])\n",
    "    \n",
    "    print(w_array[0])\n",
    "    print(w_array[1])\n",
    "\n",
    "\n",
    "    for i in range(0, 50):\n",
    "        plt.plot(x_r2[i], y_array[i], 'ro')\n",
    "\n",
    "    y1 = w_array[0]\n",
    "    y2 = (w_array[0] + 50 * w_array[1])\n",
    "\n",
    "    x_plot = [0, 50]\n",
    "    y_plot = [y1, y2]\n",
    "\n",
    "    plt.plot(x_plot, y_plot, 'g-')\n",
    "    plt.show()\n",
    "    plt.xlim(0, 50)\n",
    "    plt.ylim(0, 51)\n",
    "    \n",
    "    \n",
    "linear_least_squares_fit()"
   ]
  },
  {
   "cell_type": "code",
   "execution_count": null,
   "metadata": {},
   "outputs": [],
   "source": []
  },
  {
   "cell_type": "code",
   "execution_count": null,
   "metadata": {},
   "outputs": [],
   "source": []
  },
  {
   "cell_type": "code",
   "execution_count": null,
   "metadata": {},
   "outputs": [],
   "source": []
  },
  {
   "cell_type": "code",
   "execution_count": null,
   "metadata": {},
   "outputs": [],
   "source": []
  },
  {
   "cell_type": "code",
   "execution_count": null,
   "metadata": {},
   "outputs": [],
   "source": []
  }
 ],
 "metadata": {
  "kernelspec": {
   "display_name": "Python 3",
   "language": "python",
   "name": "python3"
  },
  "language_info": {
   "codemirror_mode": {
    "name": "ipython",
    "version": 3
   },
   "file_extension": ".py",
   "mimetype": "text/x-python",
   "name": "python",
   "nbconvert_exporter": "python",
   "pygments_lexer": "ipython3",
   "version": "3.6.5"
  }
 },
 "nbformat": 4,
 "nbformat_minor": 2
}
